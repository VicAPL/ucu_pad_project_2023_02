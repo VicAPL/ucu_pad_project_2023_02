{
 "cells": [
  {
   "cell_type": "markdown",
   "metadata": {
    "deletable": false,
    "editable": false,
    "nbgrader": {
     "checksum": "a72213caf229980373130c6f1679227c",
     "grade": false,
     "grade_id": "cell-018440ed2f1b6a62",
     "locked": true,
     "schema_version": 1,
     "solution": false
    }
   },
   "source": [
    "# Proyecto 2\n",
    "Todas las preguntas tienen el mismo peso en esta tarea. Esta tarea requiere más aprendizaje individual. Te invito a consultar la [documentación de pandas](https://pandas.pydata.org/pandas-docs/stable/) para encontrar funciones o métodos que quizás no has usado aún, o realices preguntas en [Stack Overflow](https://stackoverflow.com/) y etiquételos como relacionados con pandas y python. Todas las preguntas tienen la misma cantidad de puntos, excepto la pregunta 1, que vale el 20 % de la calificación de la tarea.\n",
    "\n",
    "**Nota**: A partir de la pregunta 2 se basan en la respuesta de la pregunta 1."
   ]
  },
  {
   "cell_type": "code",
   "execution_count": 304,
   "metadata": {
    "ExecuteTime": {
     "end_time": "2024-11-05T23:30:04.013408Z",
     "start_time": "2024-11-05T23:30:03.913361300Z"
    }
   },
   "outputs": [],
   "source": [
    "import pandas as pd\n",
    "import numpy as np\n",
    "\n",
    "# Filter all warnings. If you would like to see the warnings, please comment the two lines below.\n",
    "import warnings\n",
    "warnings.filterwarnings('ignore')"
   ]
  },
  {
   "cell_type": "markdown",
   "metadata": {
    "deletable": false,
    "editable": false,
    "nbgrader": {
     "checksum": "68063b8b0783f3d8122b516e0cce5f45",
     "grade": false,
     "grade_id": "cell-7e5190c7ff1f2e42",
     "locked": true,
     "schema_version": 1,
     "solution": false
    }
   },
   "source": [
    "### Pregunta 1\n",
    "Cargue los datos de energía del archivo `assets/Energy Indicators.xls`, que es una lista de indicadores de [suministro de energía y producción de electricidad renovable](assets/Energy%20Indicators.xls) de las [Naciones Unidas](https://unstats.un.org/unsd/environment/excel_file_tables/2013/Energy%20Indicators.xls) para el año 2013, y asigna esos datos a un DataFrame con el nombre de variable **energy**.\n",
    "\n",
    "Ten en cuenta que este es un archivo de Excel y no un archivo de valores separados por comas (.csv). Además, asegúrate de excluir la información del pie de página y del encabezado del archivo de datos. Las primeras dos columnas son innecesarias, por lo que debes deshacerse de ellas. También debes cambiar las etiquetas de las columnas para que las columnas sean las siguientes:\n",
    "\n",
    "`['Country', 'Energy Supply', 'Energy Supply per Capita', '% Renewable']`\n",
    "\n",
    "Convierta `Energy Supply` a gigajulios (**Nota: hay 1,000,000 giga julios en un petajulio**). Para todos los países que carezcan de datos (por ejemplo, datos con \"...\"), asegúrese de que estos reflejen valores `np.NaN`.\n",
    "\n",
    "Cambia el nombre de los siguientes países según este listado (nos servirá para preguntas posteriores):\n",
    "\n",
    "```\n",
    "\"Republic of Korea\": \"South Korea\",\n",
    "\"United States of America\": \"United States\",\n",
    "\"United Kingdom of Great Britain and Northern Ireland\": \"United Kingdom\",\n",
    "\"China, Hong Kong Special Administrative Region\": \"Hong Kong\"\n",
    "```\n",
    "\n",
    "También hay varios países que contienen paréntesis en su nombre. Asegúrete de eliminarlos, por ejemplo: `'Bolivia (Estado Plurinacional de)'` debería ser `'Bolivia'`.\n",
    "\n",
    "A continuación, carga los datos del GDP (PBI) del archivo `assets/world_bank.csv`. Este es un archivo .csv del [Banco Mundial](https://data.worldbank.org/indicator/NY.GDP.MKTP.CD) que contiene el PBI de los países desde 1960 hasta 2015. Llame a este DataFrame **gdp**.\n",
    "\n",
    "Asegúrete de omitir el encabezado y cambia el nombre de la siguiente lista de países:\n",
    "\n",
    "```\n",
    "\"Korea, Rep.\": \"South Korea\",\n",
    "\"Iran, Islamic Rep.\": \"Iran\",\n",
    "\"Hong Kong SAR, China\": \"Hong Kong\"\n",
    "```\n",
    "\n",
    "Finalmente, lee el [Sciamgo Journal and Country Rank data for Energy Engineering and Power Technology](https://www.scimagojr.com/countryrank.php?category=2102) desde el archivo `assets/scimagojr-3.xlsx`, que clasifica a los paises según sus contribuciones al área mencionada. Denomina este DataFrame con el nombre **sciamgo**.\n",
    "\n",
    "Unifica los tres datasets: GDP, Energy, y ScimEn en un nuevo dataset (utilizando la intersección de los nombres de países). Utiliza solo los años del 2006 al 2015 de datos de GDP (PBI) y solo los 15 principales países según el ranking de Scimagojr 'Rank' (del 1 al 15).\n",
    "\n",
    "El índice de este DataFrame debe ser el nombre de los países, y las columnas deben ser ['Rank', 'Documents', 'Citable documents', 'Citations', 'Self-citations', 'Citations per document', 'H index', 'Energy Supply', 'Energy Supply per Capita', '% Renewable', '2006', '2007', '2008', '2009', '2010', '2011', '2012', '2013', '2014', '2015']\n",
    "\n",
    "*Esto debería devolver un DataFrame con 20 columnas y 15 entradas, y las filas del DataFrame deberían estar ordenadas por \"Rank\".*\n"
   ]
  },
  {
   "cell_type": "code",
   "execution_count": 305,
   "metadata": {
    "deletable": false,
    "editable": false,
    "nbgrader": {
     "checksum": "e241830bcf3f63326b4c9cdf50be8f86",
     "grade": true,
     "grade_id": "cell-74b5f0b971379f64",
     "locked": true,
     "points": 10,
     "schema_version": 1,
     "solution": false
    },
    "ExecuteTime": {
     "end_time": "2024-11-05T23:30:04.147113800Z",
     "start_time": "2024-11-05T23:30:03.929539500Z"
    }
   },
   "outputs": [
    {
     "name": "stdout",
     "output_type": "stream",
     "text": [
      "Final DataFrame shape: (15, 21)\n",
      "   Rank             Country  Documents  Citable documents  Citations  \\\n",
      "0     1               China     127050             126767     597237   \n",
      "1     2       United States      96661              94747     792274   \n",
      "2     3               Japan      30504              30287     223024   \n",
      "3     4      United Kingdom      20944              20357     206091   \n",
      "4     5  Russian Federation      18534              18301      34266   \n",
      "\n",
      "   Self-citations  Citations per document  H index  Energy Supply  \\\n",
      "0          411683                    4.70      138   1.271910e+11   \n",
      "1          265436                    8.20      230   9.083800e+10   \n",
      "2           61554                    7.31      134   1.898400e+10   \n",
      "3           37874                    9.84      139   7.920000e+09   \n",
      "4           12422                    1.85       57   3.070900e+10   \n",
      "\n",
      "   Energy Supply per Capita  ...          2006          2007          2008  \\\n",
      "0                      93.0  ...  3.992331e+12  4.559041e+12  4.997775e+12   \n",
      "1                     286.0  ...  1.479230e+13  1.505540e+13  1.501149e+13   \n",
      "2                     149.0  ...  5.496542e+12  5.617036e+12  5.558527e+12   \n",
      "3                     124.0  ...  2.419631e+12  2.482203e+12  2.470614e+12   \n",
      "4                     214.0  ...  1.385793e+12  1.504071e+12  1.583004e+12   \n",
      "\n",
      "           2009          2010          2011          2012          2013  \\\n",
      "0  5.459247e+12  6.039659e+12  6.612490e+12  7.124978e+12  7.672448e+12   \n",
      "1  1.459484e+13  1.496437e+13  1.520402e+13  1.554216e+13  1.577367e+13   \n",
      "2  5.251308e+12  5.498718e+12  5.473738e+12  5.569102e+12  5.644659e+12   \n",
      "3  2.367048e+12  2.403504e+12  2.450911e+12  2.479809e+12  2.533370e+12   \n",
      "4  1.459199e+12  1.524917e+12  1.589943e+12  1.645876e+12  1.666934e+12   \n",
      "\n",
      "           2014          2015  \n",
      "0  8.230121e+12  8.797999e+12  \n",
      "1  1.615662e+13  1.654857e+13  \n",
      "2  5.642884e+12  5.669563e+12  \n",
      "3  2.605643e+12  2.666333e+12  \n",
      "4  1.678709e+12  1.616149e+12  \n",
      "\n",
      "[5 rows x 21 columns]\n"
     ]
    }
   ],
   "source": [
    "# Cargar y modificar el archivo Energy indicators\n",
    "energy = pd.read_excel('assets/Energy Indicators.xls', skiprows=17, skipfooter=38, usecols=[2, 3, 4, 5])\n",
    "energy.columns = ['Country', 'Energy Supply', 'Energy Supply per Capita', '% Renewable']\n",
    "energy.replace('...', np.nan, inplace=True)\n",
    "\n",
    "# Transformar a gigajulios \n",
    "energy['Energy Supply'] *= 1000000 \n",
    "\n",
    "# Modificar los nombres de los paises\n",
    "country_renames = {\n",
    "    \"Republic of Korea\": \"South Korea\",\n",
    "    \"United States of America\": \"United States\",\n",
    "    \"United Kingdom of Great Britain and Northern Ireland19\": \"United Kingdom\",\n",
    "    \"China, Hong Kong Special Administrative Region\": \"Hong Kong\",\n",
    "    \"China2\": \"China\",\n",
    "    \"United States of America20\": \"United States\",\n",
    "    \"Japan10\": \"Japan\",\n",
    "    \"France6\": \"France\",\n",
    "    \"Italy9\": \"Italy\",\n",
    "    \"Spain16\": \"Spain\",\n",
    "    \"Australia1\": \"Australia\"\n",
    "}\n",
    "energy['Country'] = energy['Country'].replace(country_renames)\n",
    "\n",
    "# Eliminar los parentesis\n",
    "energy['Country'] = energy['Country'].str.replace(r\" \\(.*\\)\", \"\", regex=True)\n",
    "\n",
    "# Cargar y modificar el archivo de world bank\n",
    "gdp = pd.read_csv('assets/world_bank.csv', skiprows=4)\n",
    "gdp.rename(columns={'Country Name': 'Country'}, inplace=True)\n",
    "gdp_country_renames = {\n",
    "    \"Korea, Rep.\": \"South Korea\",\n",
    "    \"Iran, Islamic Rep.\": \"Iran\",\n",
    "    \"Hong Kong SAR, China\": \"Hong Kong\"\n",
    "}\n",
    "gdp['Country'] = gdp['Country'].replace(gdp_country_renames)\n",
    "\n",
    "# Filtrar los años 2006 a 2015\n",
    "gdp = gdp[['Country'] + [str(year) for year in range(2006, 2016)]]\n",
    "\n",
    "# Cargar el archivo ScimEn\n",
    "sciamgo = pd.read_excel('assets/scimagojr-3.xlsx')\n",
    "\n",
    "# Seleccionar los 15 países principales en el ranking\n",
    "sciamgo_top15 = sciamgo[sciamgo['Rank'] <= 15]\n",
    "\n",
    "# Unir los DataFrames\n",
    "merged_df = pd.merge(pd.merge(sciamgo_top15, energy, on='Country', how='inner'), gdp, on='Country', how='inner')\n",
    "\n",
    "# Ordenar por el rank\n",
    "final_df = merged_df.sort_values('Rank')\n",
    "\n",
    "# Mostrar el DataFrame \n",
    "print(\"Final DataFrame shape:\", final_df.shape)\n",
    "print(final_df.head())\n",
    "\n",
    "# Denominar el dataframe como df\n",
    "df = final_df "
   ]
  },
  {
   "cell_type": "markdown",
   "metadata": {
    "deletable": false,
    "editable": false,
    "nbgrader": {
     "checksum": "596280cd22ed98c5540580c62954ec2f",
     "grade": false,
     "grade_id": "cell-babe0ff2a1fc6b17",
     "locked": true,
     "schema_version": 1,
     "solution": false
    }
   },
   "source": [
    "### Pregunta 2\n",
    "La pregunta anterior unió tres datasets y luego los redujo a las 15 entradas principales. Pero antes de reducirlos a los 15 elementos principales, ¿cuántas entradas se perdieron?\n",
    "\n",
    "*Esta función debería devolver un solo número.*"
   ]
  },
  {
   "cell_type": "code",
   "execution_count": 306,
   "outputs": [
    {
     "data": {
      "text/plain": "135"
     },
     "execution_count": 306,
     "metadata": {},
     "output_type": "execute_result"
    }
   ],
   "source": [
    "# Cantidad total de entradas antes de la reducción\n",
    "sciamgo_total = sciamgo\n",
    "merged_df_2 = pd.merge(pd.merge(sciamgo_total, energy, on='Country', how='inner'), gdp, on='Country', how='inner')\n",
    "total_entries_before = merged_df_2.shape[0]\n",
    "\n",
    "# Reduce a las 15 entradas principales \n",
    "top_15_df = final_df.nlargest(15, 'Rank') \n",
    "\n",
    "# Cantidad de entradas después de la reducción\n",
    "total_entries_after = top_15_df.shape[0]\n",
    "\n",
    "# Calcular entradas perdidas\n",
    "entries_lost = total_entries_before - total_entries_after\n",
    "\n",
    "# Devuelve el número de entradas perdidas\n",
    "entries_lost"
   ],
   "metadata": {
    "collapsed": false,
    "ExecuteTime": {
     "end_time": "2024-11-05T23:30:04.147113800Z",
     "start_time": "2024-11-05T23:30:03.999943300Z"
    }
   }
  },
  {
   "cell_type": "code",
   "execution_count": 307,
   "metadata": {
    "deletable": false,
    "editable": false,
    "nbgrader": {
     "checksum": "c9a34da81c80126fd23ae2eac33f98f8",
     "grade": false,
     "grade_id": "cell-96f84e7b693bef63",
     "locked": true,
     "schema_version": 1,
     "solution": false
    },
    "ExecuteTime": {
     "end_time": "2024-11-05T23:30:04.148065600Z",
     "start_time": "2024-11-05T23:30:04.015415300Z"
    }
   },
   "outputs": [
    {
     "data": {
      "text/plain": "<IPython.core.display.HTML object>",
      "text/html": "<svg width=\"800\" height=\"300\">\n  <circle cx=\"150\" cy=\"180\" r=\"80\" fill-opacity=\"0.2\" stroke=\"black\" stroke-width=\"2\" fill=\"blue\" />\n  <circle cx=\"200\" cy=\"100\" r=\"80\" fill-opacity=\"0.2\" stroke=\"black\" stroke-width=\"2\" fill=\"red\" />\n  <circle cx=\"100\" cy=\"100\" r=\"80\" fill-opacity=\"0.2\" stroke=\"black\" stroke-width=\"2\" fill=\"green\" />\n  <line x1=\"150\" y1=\"125\" x2=\"300\" y2=\"150\" stroke=\"black\" stroke-width=\"2\" fill=\"black\" stroke-dasharray=\"5,3\"/>\n  <text x=\"300\" y=\"165\" font-family=\"Verdana\" font-size=\"35\">Todo menos esto!</text>\n</svg>\n"
     },
     "metadata": {},
     "output_type": "display_data"
    }
   ],
   "source": [
    "%%HTML\n",
    "<svg width=\"800\" height=\"300\">\n",
    "  <circle cx=\"150\" cy=\"180\" r=\"80\" fill-opacity=\"0.2\" stroke=\"black\" stroke-width=\"2\" fill=\"blue\" />\n",
    "  <circle cx=\"200\" cy=\"100\" r=\"80\" fill-opacity=\"0.2\" stroke=\"black\" stroke-width=\"2\" fill=\"red\" />\n",
    "  <circle cx=\"100\" cy=\"100\" r=\"80\" fill-opacity=\"0.2\" stroke=\"black\" stroke-width=\"2\" fill=\"green\" />\n",
    "  <line x1=\"150\" y1=\"125\" x2=\"300\" y2=\"150\" stroke=\"black\" stroke-width=\"2\" fill=\"black\" stroke-dasharray=\"5,3\"/>\n",
    "  <text x=\"300\" y=\"165\" font-family=\"Verdana\" font-size=\"35\">Todo menos esto!</text>\n",
    "</svg>"
   ]
  },
  {
   "cell_type": "markdown",
   "metadata": {
    "deletable": false,
    "editable": false,
    "nbgrader": {
     "checksum": "5af1b4f99cd383263130f4c00442a133",
     "grade": false,
     "grade_id": "cell-2e54816014e48c18",
     "locked": true,
     "schema_version": 1,
     "solution": false
    }
   },
   "source": [
    "### Pregunta 3\n",
    "¿Cuáles son los 15 países con mayor GDP (PBI) promedio en los últimos 10 años?\n",
    "\n",
    "*Esta función debería devolver una serie llamada `avgGDP` con 15 países y su GDP (PBI) promedio ordenado en orden descendente.*"
   ]
  },
  {
   "cell_type": "code",
   "execution_count": 320,
   "metadata": {
    "deletable": false,
    "editable": false,
    "nbgrader": {
     "checksum": "2f9c90ee07138f94c027c5d2f907ab13",
     "grade": true,
     "grade_id": "cell-aaaa11ef7d26f4cf",
     "locked": true,
     "points": 6.66,
     "schema_version": 1,
     "solution": false
    },
    "ExecuteTime": {
     "end_time": "2024-11-05T23:40:20.536325100Z",
     "start_time": "2024-11-05T23:40:20.462326800Z"
    }
   },
   "outputs": [
    {
     "data": {
      "text/plain": "                       Country       Avg_GDP\n257                      World  6.629398e+13\n92                 High income  4.554749e+13\n179               OECD members  4.484487e+13\n195  Post-demographic dividend  4.265837e+13\n100           IDA & IBRD total  2.148847e+13\n62       Europe & Central Asia  2.106957e+13\n138        Low & middle income  2.029316e+13\n154              Middle income  2.000268e+13\n99                   IBRD only  1.990360e+13\n70              European Union  1.710770e+13\n168              North America  1.688443e+13\n60         East Asia & Pacific  1.676014e+13\n246        Upper middle income  1.539330e+13\n248              United States  1.523276e+13\n140  Late-demographic dividend  1.353631e+13",
      "text/html": "<div>\n<style scoped>\n    .dataframe tbody tr th:only-of-type {\n        vertical-align: middle;\n    }\n\n    .dataframe tbody tr th {\n        vertical-align: top;\n    }\n\n    .dataframe thead th {\n        text-align: right;\n    }\n</style>\n<table border=\"1\" class=\"dataframe\">\n  <thead>\n    <tr style=\"text-align: right;\">\n      <th></th>\n      <th>Country</th>\n      <th>Avg_GDP</th>\n    </tr>\n  </thead>\n  <tbody>\n    <tr>\n      <th>257</th>\n      <td>World</td>\n      <td>6.629398e+13</td>\n    </tr>\n    <tr>\n      <th>92</th>\n      <td>High income</td>\n      <td>4.554749e+13</td>\n    </tr>\n    <tr>\n      <th>179</th>\n      <td>OECD members</td>\n      <td>4.484487e+13</td>\n    </tr>\n    <tr>\n      <th>195</th>\n      <td>Post-demographic dividend</td>\n      <td>4.265837e+13</td>\n    </tr>\n    <tr>\n      <th>100</th>\n      <td>IDA &amp; IBRD total</td>\n      <td>2.148847e+13</td>\n    </tr>\n    <tr>\n      <th>62</th>\n      <td>Europe &amp; Central Asia</td>\n      <td>2.106957e+13</td>\n    </tr>\n    <tr>\n      <th>138</th>\n      <td>Low &amp; middle income</td>\n      <td>2.029316e+13</td>\n    </tr>\n    <tr>\n      <th>154</th>\n      <td>Middle income</td>\n      <td>2.000268e+13</td>\n    </tr>\n    <tr>\n      <th>99</th>\n      <td>IBRD only</td>\n      <td>1.990360e+13</td>\n    </tr>\n    <tr>\n      <th>70</th>\n      <td>European Union</td>\n      <td>1.710770e+13</td>\n    </tr>\n    <tr>\n      <th>168</th>\n      <td>North America</td>\n      <td>1.688443e+13</td>\n    </tr>\n    <tr>\n      <th>60</th>\n      <td>East Asia &amp; Pacific</td>\n      <td>1.676014e+13</td>\n    </tr>\n    <tr>\n      <th>246</th>\n      <td>Upper middle income</td>\n      <td>1.539330e+13</td>\n    </tr>\n    <tr>\n      <th>248</th>\n      <td>United States</td>\n      <td>1.523276e+13</td>\n    </tr>\n    <tr>\n      <th>140</th>\n      <td>Late-demographic dividend</td>\n      <td>1.353631e+13</td>\n    </tr>\n  </tbody>\n</table>\n</div>"
     },
     "execution_count": 320,
     "metadata": {},
     "output_type": "execute_result"
    }
   ],
   "source": [
    "# Calcular el promedio del GDP para cada país en los últimos 10 años\n",
    "\n",
    "gdp_2 = gdp[['Country'] + [str(year) for year in range(2006, 2015)]]\n",
    "gdp_2['Avg_GDP'] = gdp_2[[str(year) for year in range(2006, 2015)]].mean(axis=1)\n",
    "\n",
    "# Seleccionar los 15 países con el mayor promedio de GDP\n",
    "avgGDP = gdp_2[['Country', 'Avg_GDP']].nlargest(15, 'Avg_GDP')\n",
    "\n",
    "# Mostrar la serie con los 15 países y su promedio de GDP\n",
    "avgGDP"
   ]
  },
  {
   "cell_type": "markdown",
   "metadata": {},
   "source": [
    "### Pregunta 4\n",
    "¿Cuánto cambió el GDP (PBI) durante el lapso de 10 años para el país con el sexto GDP (PBI) promedio más grande?\n",
    "\n",
    "*Esta función debería devolver un solo número.*"
   ]
  },
  {
   "cell_type": "code",
   "execution_count": 325,
   "metadata": {
    "deletable": false,
    "editable": false,
    "nbgrader": {
     "checksum": "a7770c49cdfac4fa6368dfe8b39e6474",
     "grade": true,
     "grade_id": "cell-564dd8e5e24b0f83",
     "locked": true,
     "points": 6.66,
     "schema_version": 1,
     "solution": false
    },
    "ExecuteTime": {
     "end_time": "2024-11-05T23:52:06.111885800Z",
     "start_time": "2024-11-05T23:52:06.091654600Z"
    }
   },
   "outputs": [
    {
     "name": "stdout",
     "output_type": "stream",
     "text": [
      "Cambio en el GDP en miles de millones: 1464.99 miles de millones\n"
     ]
    }
   ],
   "source": [
    "# Calcular el GDP promedio para cada país\n",
    "\n",
    "gdp_2['Avg_GDP'] = gdp_2[[str(year) for year in range(2006, 2015)]].mean(axis=1)\n",
    "\n",
    "# Obtener el país con el sexto GDP promedio más alto\n",
    "\n",
    "avgGDP_6_country = gdp_2.nlargest(6, 'Avg_GDP').iloc[5]  \n",
    "\n",
    "# Obtener el cambio en el GDP durante los 10 años\n",
    "\n",
    "gdp_change = avgGDP_6_country[str(2014)] - avgGDP_6_country[str(2006)]\n",
    "\n",
    "# Mostrar el cambio en el GDP\n",
    "\n",
    "gdp_change\n",
    "\n",
    "# Convertir el cambio en GDP a miles de millones\n",
    "gdp_change_billions = gdp_change / 1_000_000_000\n",
    "print(f\"Cambio en el GDP en miles de millones: {gdp_change_billions:.2f} miles de millones\")"
   ]
  },
  {
   "cell_type": "markdown",
   "metadata": {
    "deletable": false,
    "editable": false,
    "nbgrader": {
     "checksum": "ed6dbc94ff1b6268873413fee12741cd",
     "grade": false,
     "grade_id": "cell-617669111e38ca15",
     "locked": true,
     "schema_version": 1,
     "solution": false
    }
   },
   "source": [
    "### Pregunta 5\n",
    "¿Cuál es el suministro medio de energía per cápita (`Energy Supply per Capita`)?\n",
    "\n",
    "*Esta función debería devolver un solo número.*"
   ]
  },
  {
   "cell_type": "code",
   "execution_count": 327,
   "metadata": {
    "deletable": false,
    "editable": false,
    "nbgrader": {
     "checksum": "9d61bf22656baeecc77f63d54448590e",
     "grade": true,
     "grade_id": "cell-30cc66180851638c",
     "locked": true,
     "points": 6.66,
     "schema_version": 1,
     "solution": false
    },
    "ExecuteTime": {
     "end_time": "2024-11-06T00:07:16.524086500Z",
     "start_time": "2024-11-06T00:07:16.510747600Z"
    }
   },
   "outputs": [
    {
     "name": "stdout",
     "output_type": "stream",
     "text": [
      "El promedio de energía per cápita es 90.67 GJ\n"
     ]
    }
   ],
   "source": [
    "# Calcular la media de Energy supply per capita\n",
    "\n",
    "energy_mean_p_c = energy['Energy Supply per Capita'].mean()\n",
    "\n",
    "# Mostrar el resultado\n",
    "energy_mean_p_c\n",
    "print(f\"El promedio de energía per cápita es {energy_mean_p_c:.2f} GJ\")\n"
   ]
  },
  {
   "cell_type": "markdown",
   "metadata": {
    "deletable": false,
    "editable": false,
    "nbgrader": {
     "checksum": "2c7a163ae96f56317756456b0d9d695b",
     "grade": false,
     "grade_id": "cell-5c11ddd12fd71b3f",
     "locked": true,
     "schema_version": 1,
     "solution": false
    }
   },
   "source": [
    "### Pregunta 6\n",
    "¿Qué país tiene el máximo `% Renewable` y cuál es el porcentaje?\n",
    "\n",
    "*Esta función debe devolver una tupla con el nombre del país y el porcentaje.*"
   ]
  },
  {
   "cell_type": "code",
   "execution_count": 330,
   "metadata": {
    "deletable": false,
    "editable": false,
    "nbgrader": {
     "checksum": "f8b28b0a824a3b76a6244c1273648ccd",
     "grade": true,
     "grade_id": "cell-2bd201c5c7bdd80f",
     "locked": true,
     "points": 6.66,
     "schema_version": 1,
     "solution": false
    },
    "ExecuteTime": {
     "end_time": "2024-11-06T00:11:57.319271600Z",
     "start_time": "2024-11-06T00:11:57.268652900Z"
    }
   },
   "outputs": [
    {
     "name": "stdout",
     "output_type": "stream",
     "text": [
      "('Albania', 100.0)\n"
     ]
    }
   ],
   "source": [
    "# Ver el país con el máximo porcentaje de energía renovable\n",
    "\n",
    "max_renewable_country = energy.loc[energy['% Renewable'].idxmax()]\n",
    "\n",
    "# Definir el nombre del país y el porcentaje\n",
    "\n",
    "country_name = max_renewable_country['Country']\n",
    "renewable_percentage = float(max_renewable_country['% Renewable'])\n",
    "\n",
    "# Devolver la tupla con el país y el porcentaje\n",
    "\n",
    "result = (country_name, renewable_percentage)\n",
    "\n",
    "# Imprimir el resultado\n",
    "\n",
    "print(result)"
   ]
  },
  {
   "cell_type": "markdown",
   "metadata": {
    "deletable": false,
    "editable": false,
    "nbgrader": {
     "checksum": "a7b561a486a28ee4ba80a40715617c6d",
     "grade": false,
     "grade_id": "cell-ddf52a85ad3d5a11",
     "locked": true,
     "schema_version": 1,
     "solution": false
    }
   },
   "source": [
    "### Pregunta 7\n",
    "Cree una nueva columna que sea la relación entre `Self-Citations` y `Total Citations`.\n",
    "¿Cuál es el valor máximo para esta nueva columna y qué país tiene la relación más alta?\n",
    "\n",
    "*Esta función debe devolver una tupla con el nombre del país y el ratio (proporción).*"
   ]
  },
  {
   "cell_type": "code",
   "execution_count": 337,
   "metadata": {
    "deletable": false,
    "editable": false,
    "nbgrader": {
     "checksum": "ca448b3a16b65a3a08533cac736cc4d9",
     "grade": true,
     "grade_id": "cell-b7a163e9231b88c9",
     "locked": true,
     "points": 6.66,
     "schema_version": 1,
     "solution": false
    },
    "ExecuteTime": {
     "end_time": "2024-11-06T00:21:52.696466600Z",
     "start_time": "2024-11-06T00:21:52.683815700Z"
    }
   },
   "outputs": [
    {
     "name": "stdout",
     "output_type": "stream",
     "text": [
      "('French Guiana', 1.0)\n"
     ]
    }
   ],
   "source": [
    "# Crear una nueva columna que sea la relación entre 'Self-citations' y 'Citations', asumiendo que 'Citations' es el total\n",
    "sciamgo['Self-citation Ratio'] = sciamgo['Self-citations'] / sciamgo['Citations']\n",
    "\n",
    "# Encontrar el valor máximo de la nueva columna\n",
    "max_ratio_row = sciamgo.loc[sciamgo['Self-citation Ratio'].idxmax()]\n",
    "\n",
    "# Definir el nombre del país y el valor máximo de la relación\n",
    "country_name_max_ratio = max_ratio_row['Country']\n",
    "max_ratio = float(max_ratio_row['Self-citation Ratio'])\n",
    "\n",
    "# Devolver la tupla con el país y el ratio\n",
    "result = (country_name_max_ratio, max_ratio)\n",
    "print(result)"
   ]
  },
  {
   "cell_type": "markdown",
   "metadata": {
    "deletable": false,
    "editable": false,
    "nbgrader": {
     "checksum": "7be7b86ee7467539dd88746818c78c0e",
     "grade": false,
     "grade_id": "cell-5c89296ab6f94218",
     "locked": true,
     "schema_version": 1,
     "solution": false
    }
   },
   "source": [
    "### Pregunta 8\n",
    "\n",
    "Crea una columna que estime la población utilizando `Energy Supply` y `Energy Supply per capita`.\n",
    "¿Cuál es el tercer país más poblado según esta estimación?\n",
    "\n",
    "*Esta función debería devolver el nombre del país*"
   ]
  },
  {
   "cell_type": "code",
   "execution_count": 338,
   "metadata": {
    "deletable": false,
    "editable": false,
    "nbgrader": {
     "checksum": "ba2ad50cf8198767b0bd2f75b8d97e87",
     "grade": true,
     "grade_id": "cell-3f3620c88df08b20",
     "locked": true,
     "points": 0,
     "schema_version": 1,
     "solution": false
    },
    "ExecuteTime": {
     "end_time": "2024-11-06T00:23:42.259048100Z",
     "start_time": "2024-11-06T00:23:42.206241600Z"
    }
   },
   "outputs": [
    {
     "name": "stdout",
     "output_type": "stream",
     "text": [
      "El tercer país más poblado según la estimación es United States.\n"
     ]
    }
   ],
   "source": [
    "# Crear una nueva columna que estime la población\n",
    "energy['Estimated Population'] = energy['Energy Supply'] / energy['Energy Supply per Capita']\n",
    "\n",
    "# Encontrar el tercer país más poblado\n",
    "third_most_populated_country = energy.nlargest(3, 'Estimated Population')['Country'].iloc[2]\n",
    "\n",
    "# Imprimir el resultado\n",
    "print(f\"El tercer país más poblado según la estimación es {third_most_populated_country}.\")"
   ]
  },
  {
   "cell_type": "markdown",
   "metadata": {
    "deletable": false,
    "editable": false,
    "nbgrader": {
     "checksum": "164cba98164a1045db7de10dd37115c8",
     "grade": false,
     "grade_id": "cell-2065207e66e5ec01",
     "locked": true,
     "schema_version": 1,
     "solution": false
    }
   },
   "source": [
    "### Pregunta 9\n",
    "Crea una columna que estime el número de `Citable documents` por persona.\n",
    "¿Cuál es la correlación entre el número de `Citable documents` per cápita y el `Energy Supply per Capita`? Utiliza el método `.corr()`, (correlación de Pearson).\n",
    "\n",
    "*Esta función debería devolver un solo número.*\n",
    "\n",
    "*(Opcional: utiliza la función `plot9()` para visualizar la relación entre el suministro de energía per cápita y los `Citable documents` per cápita)*"
   ]
  },
  {
   "cell_type": "code",
   "execution_count": 344,
   "metadata": {
    "deletable": false,
    "nbgrader": {
     "checksum": "94e06c4c3a9618b94dbb0e86913b546c",
     "grade": false,
     "grade_id": "cell-033679ea456bfb9d",
     "locked": false,
     "schema_version": 1,
     "solution": true
    },
    "ExecuteTime": {
     "end_time": "2024-11-06T00:36:23.622259100Z",
     "start_time": "2024-11-06T00:36:23.598988100Z"
    }
   },
   "outputs": [
    {
     "name": "stdout",
     "output_type": "stream",
     "text": [
      "La correlación entre Citable documents per cápita y Energy Supply per cápita es nan.\n"
     ]
    }
   ],
   "source": [
    "# Estimar la población como se hizo anteriormente\n",
    "energy['Estimated Population'] = energy['Energy Supply'] / energy['Energy Supply per Capita']\n",
    "\n",
    "# Crear una nueva columna que calcule los Citable documents por persona\n",
    "sciamgo['Citable documents per Capita'] = sciamgo['Citable documents'] / energy['Estimated Population']\n",
    "\n",
    "# Calcular la correlación entre Citable documents per Capita y Energy Supply per Capita\n",
    "correlation = sciamgo['Citable documents per Capita'].corr(energy['Energy Supply per Capita'])\n",
    "\n",
    "# Imprimir el resultado\n",
    "print(f\"La correlación entre Citable documents per cápita y Energy Supply per cápita es {correlation:.2f}.\")"
   ]
  },
  {
   "cell_type": "code",
   "execution_count": 343,
   "metadata": {
    "deletable": false,
    "editable": false,
    "nbgrader": {
     "checksum": "01a146bbcca0fa9c9c13e71ab52e710f",
     "grade": false,
     "grade_id": "cell-644824f6c708bf80",
     "locked": true,
     "schema_version": 1,
     "solution": false
    },
    "ExecuteTime": {
     "end_time": "2024-11-06T00:35:25.883441400Z",
     "start_time": "2024-11-06T00:35:22.463144600Z"
    }
   },
   "outputs": [
    {
     "data": {
      "text/plain": "<Figure size 640x480 with 1 Axes>",
      "image/png": "[encoded data removed]"
     },
     "metadata": {},
     "output_type": "display_data"
    }
   ],
   "source": [
    "def plot9():\n",
    "    import matplotlib as plt\n",
    "    %matplotlib inline\n",
    "\n",
    "    top15 = df  # df debe ser el nombre del DataFrame que obtuviste en la pregunta 1\n",
    "    top15['PopEst'] = top15['Energy Supply'] / top15['Energy Supply per Capita']\n",
    "    top15['Citable docs per Capita'] = top15['Citable documents'] / top15['PopEst']\n",
    "    top15.plot(x='Citable docs per Capita', y='Energy Supply per Capita', kind='scatter', xlim=[0, 0.0006])\n",
    "\n",
    "plot9()"
   ]
  },
  {
   "cell_type": "markdown",
   "metadata": {
    "deletable": false,
    "editable": false,
    "nbgrader": {
     "checksum": "8af5ffad89be1e5c6292438724d6f8d5",
     "grade": false,
     "grade_id": "cell-ad09765e29b91157",
     "locked": true,
     "schema_version": 1,
     "solution": false
    }
   },
   "source": [
    "### Pregunta 10\n",
    "Crea una nueva columna con un valor igual a 1 si el valor de % de energía renovable del país (`% Renewable`) es igual o superior de la mediana de todos los países en el top 15, o con un valor igual a 0 si el valor de % de energía renovable del país (`% Renewable`) está por debajo de la mediana.\n",
    "\n",
    "*Esta función debería devolver una serie llamada `HighRenew` cuyo índice es el nombre del país ordenado ascendentemente según el ranking.*"
   ]
  },
  {
   "cell_type": "code",
   "execution_count": 347,
   "metadata": {
    "deletable": false,
    "editable": false,
    "nbgrader": {
     "checksum": "f624e6996eca5796eaf27fb4d0593175",
     "grade": true,
     "grade_id": "cell-b29a631fd9a7730f",
     "locked": true,
     "points": 6.66,
     "schema_version": 1,
     "solution": false
    },
    "ExecuteTime": {
     "end_time": "2024-11-06T00:49:20.544684800Z",
     "start_time": "2024-11-06T00:49:20.501044900Z"
    }
   },
   "outputs": [
    {
     "name": "stdout",
     "output_type": "stream",
     "text": [
      "                       Country  % Renewable  HighRenew\n",
      "0                  Afghanistan     78.66928          0\n",
      "1                      Albania    100.00000          1\n",
      "2                      Algeria      0.55101          0\n",
      "4                      Andorra     88.69565          0\n",
      "5                       Angola     70.90909          0\n",
      "..                         ...          ...        ...\n",
      "222                   Viet Nam     45.32152          0\n",
      "223  Wallis and Futuna Islands      0.00000          0\n",
      "224                      Yemen      0.00000          0\n",
      "225                     Zambia     99.71467          1\n",
      "226                   Zimbabwe     52.53612          0\n",
      "\n",
      "[222 rows x 3 columns]\n"
     ]
    }
   ],
   "source": [
    "# Ordenar el DataFrame por '% Renewable' en orden descendente para obtener el top 15\n",
    "top_15_energy = energy.nlargest(15, '% Renewable')\n",
    "\n",
    "# Calcular la mediana del '% Renewable' en el top 15\n",
    "median_renewable = top_15_energy['% Renewable'].median()\n",
    "\n",
    "# Crear la nueva columna 'HighRenew' con 1 si el valor de '% Renewable' es >= a la mediana, 0 si es menor\n",
    "energy['HighRenew'] = (energy['% Renewable'] >= median_renewable).astype(int)\n",
    "\n",
    "# Ordenar el DataFrame\n",
    "energy_sorted = energy.sort_index()\n",
    "\n",
    "# Mostrar el resultado\n",
    "print(energy_sorted[['Country', '% Renewable', 'HighRenew']])"
   ]
  },
  {
   "cell_type": "markdown",
   "metadata": {
    "deletable": false,
    "editable": false,
    "nbgrader": {
     "checksum": "52f682e7066791c34cd3b2402855cbf5",
     "grade": false,
     "grade_id": "cell-677c51ba711c3af7",
     "locked": true,
     "schema_version": 1,
     "solution": false
    }
   },
   "source": [
    "### Pregunta 11\n",
    "Utiliza el siguiente diccionario para agrupar los países por continente, luego crea un DataFrame que muestre el tamaño de la muestra (la cantidad de países en cada contenedor de continente) y la suma, la media y la desviación estándar para la población estimada de cada país.\n",
    "\n",
    "```python\n",
    "continent_dict  = {'China':'Asia',\n",
    "                   'United States':'North America',\n",
    "                   'Japan':'Asia',\n",
    "                   'United Kingdom':'Europe',\n",
    "                   'Russian Federation':'Europe',\n",
    "                   'Canada':'North America',\n",
    "                   'Germany':'Europe',\n",
    "                   'India':'Asia',\n",
    "                   'France':'Europe',\n",
    "                   'South Korea':'Asia',\n",
    "                   'Italy':'Europe',\n",
    "                   'Spain':'Europe',\n",
    "                   'Iran':'Asia',\n",
    "                   'Australia':'Australia',\n",
    "                   'Brazil':'South America'}\n",
    "```\n",
    "\n",
    "*Esta función debería devolver un DataFrame con un índice llamado Continent `['Asia', 'Australia', 'Europe', 'North America', 'South America']` y columnas `['size', 'sum', 'mean', 'std']`*"
   ]
  },
  {
   "cell_type": "code",
   "execution_count": 351,
   "metadata": {
    "deletable": false,
    "editable": false,
    "nbgrader": {
     "checksum": "233318097d9c94fdc87395c967da14c4",
     "grade": true,
     "grade_id": "cell-18d1a07971b25743",
     "locked": true,
     "points": 6.66,
     "schema_version": 1,
     "solution": false
    },
    "ExecuteTime": {
     "end_time": "2024-11-06T00:55:07.489375200Z",
     "start_time": "2024-11-06T00:55:07.301804500Z"
    }
   },
   "outputs": [
    {
     "ename": "ValueError",
     "evalue": "All arrays must be of the same length",
     "output_type": "error",
     "traceback": [
      "\u001B[1;31m---------------------------------------------------------------------------\u001B[0m",
      "\u001B[1;31mValueError\u001B[0m                                Traceback (most recent call last)",
      "Cell \u001B[1;32mIn[351], line 26\u001B[0m\n\u001B[0;32m      4\u001B[0m continent_dict \u001B[38;5;241m=\u001B[39m {\u001B[38;5;124m'\u001B[39m\u001B[38;5;124mChina\u001B[39m\u001B[38;5;124m'\u001B[39m: \u001B[38;5;124m'\u001B[39m\u001B[38;5;124mAsia\u001B[39m\u001B[38;5;124m'\u001B[39m,\n\u001B[0;32m      5\u001B[0m                   \u001B[38;5;124m'\u001B[39m\u001B[38;5;124mUnited States\u001B[39m\u001B[38;5;124m'\u001B[39m: \u001B[38;5;124m'\u001B[39m\u001B[38;5;124mNorth America\u001B[39m\u001B[38;5;124m'\u001B[39m,\n\u001B[0;32m      6\u001B[0m                   \u001B[38;5;124m'\u001B[39m\u001B[38;5;124mJapan\u001B[39m\u001B[38;5;124m'\u001B[39m: \u001B[38;5;124m'\u001B[39m\u001B[38;5;124mAsia\u001B[39m\u001B[38;5;124m'\u001B[39m,\n\u001B[1;32m   (...)\u001B[0m\n\u001B[0;32m     17\u001B[0m                   \u001B[38;5;124m'\u001B[39m\u001B[38;5;124mAustralia\u001B[39m\u001B[38;5;124m'\u001B[39m: \u001B[38;5;124m'\u001B[39m\u001B[38;5;124mAustralia\u001B[39m\u001B[38;5;124m'\u001B[39m,\n\u001B[0;32m     18\u001B[0m                   \u001B[38;5;124m'\u001B[39m\u001B[38;5;124mBrazil\u001B[39m\u001B[38;5;124m'\u001B[39m: \u001B[38;5;124m'\u001B[39m\u001B[38;5;124mSouth America\u001B[39m\u001B[38;5;124m'\u001B[39m}\n\u001B[0;32m     21\u001B[0m data \u001B[38;5;241m=\u001B[39m {\u001B[38;5;124m'\u001B[39m\u001B[38;5;124mCountry\u001B[39m\u001B[38;5;124m'\u001B[39m: [\u001B[38;5;124m'\u001B[39m\u001B[38;5;124mChina\u001B[39m\u001B[38;5;124m'\u001B[39m, \u001B[38;5;124m'\u001B[39m\u001B[38;5;124mUnited States\u001B[39m\u001B[38;5;124m'\u001B[39m, \u001B[38;5;124m'\u001B[39m\u001B[38;5;124mJapan\u001B[39m\u001B[38;5;124m'\u001B[39m, \u001B[38;5;124m'\u001B[39m\u001B[38;5;124mUnited Kingdom\u001B[39m\u001B[38;5;124m'\u001B[39m, \u001B[38;5;124m'\u001B[39m\u001B[38;5;124mRussian Federation\u001B[39m\u001B[38;5;124m'\u001B[39m,\n\u001B[0;32m     22\u001B[0m                     \u001B[38;5;124m'\u001B[39m\u001B[38;5;124mCanada\u001B[39m\u001B[38;5;124m'\u001B[39m, \u001B[38;5;124m'\u001B[39m\u001B[38;5;124mGermany\u001B[39m\u001B[38;5;124m'\u001B[39m, \u001B[38;5;124m'\u001B[39m\u001B[38;5;124mIndia\u001B[39m\u001B[38;5;124m'\u001B[39m, \u001B[38;5;124m'\u001B[39m\u001B[38;5;124mFrance\u001B[39m\u001B[38;5;124m'\u001B[39m, \u001B[38;5;124m'\u001B[39m\u001B[38;5;124mSouth Korea\u001B[39m\u001B[38;5;124m'\u001B[39m, \u001B[38;5;124m'\u001B[39m\u001B[38;5;124mItaly\u001B[39m\u001B[38;5;124m'\u001B[39m, \u001B[38;5;124m'\u001B[39m\u001B[38;5;124mSpain\u001B[39m\u001B[38;5;124m'\u001B[39m, \n\u001B[0;32m     23\u001B[0m                     \u001B[38;5;124m'\u001B[39m\u001B[38;5;124mIran\u001B[39m\u001B[38;5;124m'\u001B[39m, \u001B[38;5;124m'\u001B[39m\u001B[38;5;124mAustralia\u001B[39m\u001B[38;5;124m'\u001B[39m, \u001B[38;5;124m'\u001B[39m\u001B[38;5;124mBrazil\u001B[39m\u001B[38;5;124m'\u001B[39m],\n\u001B[0;32m     24\u001B[0m         \u001B[38;5;124m'\u001B[39m\u001B[38;5;124mEstimated Population\u001B[39m\u001B[38;5;124m'\u001B[39m: [energy[\u001B[38;5;124m'\u001B[39m\u001B[38;5;124mEstimated Population\u001B[39m\u001B[38;5;124m'\u001B[39m] \u001B[38;5;241m==\u001B[39m energy[\u001B[38;5;124m'\u001B[39m\u001B[38;5;124mEnergy Supply\u001B[39m\u001B[38;5;124m'\u001B[39m] \u001B[38;5;241m/\u001B[39m energy[\u001B[38;5;124m'\u001B[39m\u001B[38;5;124mEnergy Supply per Capita\u001B[39m\u001B[38;5;124m'\u001B[39m]]}\n\u001B[1;32m---> 26\u001B[0m energy \u001B[38;5;241m=\u001B[39m \u001B[43mpd\u001B[49m\u001B[38;5;241;43m.\u001B[39;49m\u001B[43mDataFrame\u001B[49m\u001B[43m(\u001B[49m\u001B[43mdata\u001B[49m\u001B[43m)\u001B[49m\n\u001B[0;32m     28\u001B[0m \u001B[38;5;66;03m# Asignar los continentes usando el diccionario\u001B[39;00m\n\u001B[0;32m     29\u001B[0m energy[\u001B[38;5;124m'\u001B[39m\u001B[38;5;124mContinent\u001B[39m\u001B[38;5;124m'\u001B[39m] \u001B[38;5;241m=\u001B[39m energy[\u001B[38;5;124m'\u001B[39m\u001B[38;5;124mCountry\u001B[39m\u001B[38;5;124m'\u001B[39m]\u001B[38;5;241m.\u001B[39mmap(continent_dict)\n",
      "File \u001B[1;32m~\\PycharmProjects\\ucu_pad_project_2023_02\\venv\\Lib\\site-packages\\pandas\\core\\frame.py:778\u001B[0m, in \u001B[0;36mDataFrame.__init__\u001B[1;34m(self, data, index, columns, dtype, copy)\u001B[0m\n\u001B[0;32m    772\u001B[0m     mgr \u001B[38;5;241m=\u001B[39m \u001B[38;5;28mself\u001B[39m\u001B[38;5;241m.\u001B[39m_init_mgr(\n\u001B[0;32m    773\u001B[0m         data, axes\u001B[38;5;241m=\u001B[39m{\u001B[38;5;124m\"\u001B[39m\u001B[38;5;124mindex\u001B[39m\u001B[38;5;124m\"\u001B[39m: index, \u001B[38;5;124m\"\u001B[39m\u001B[38;5;124mcolumns\u001B[39m\u001B[38;5;124m\"\u001B[39m: columns}, dtype\u001B[38;5;241m=\u001B[39mdtype, copy\u001B[38;5;241m=\u001B[39mcopy\n\u001B[0;32m    774\u001B[0m     )\n\u001B[0;32m    776\u001B[0m \u001B[38;5;28;01melif\u001B[39;00m \u001B[38;5;28misinstance\u001B[39m(data, \u001B[38;5;28mdict\u001B[39m):\n\u001B[0;32m    777\u001B[0m     \u001B[38;5;66;03m# GH#38939 de facto copy defaults to False only in non-dict cases\u001B[39;00m\n\u001B[1;32m--> 778\u001B[0m     mgr \u001B[38;5;241m=\u001B[39m \u001B[43mdict_to_mgr\u001B[49m\u001B[43m(\u001B[49m\u001B[43mdata\u001B[49m\u001B[43m,\u001B[49m\u001B[43m \u001B[49m\u001B[43mindex\u001B[49m\u001B[43m,\u001B[49m\u001B[43m \u001B[49m\u001B[43mcolumns\u001B[49m\u001B[43m,\u001B[49m\u001B[43m \u001B[49m\u001B[43mdtype\u001B[49m\u001B[38;5;241;43m=\u001B[39;49m\u001B[43mdtype\u001B[49m\u001B[43m,\u001B[49m\u001B[43m \u001B[49m\u001B[43mcopy\u001B[49m\u001B[38;5;241;43m=\u001B[39;49m\u001B[43mcopy\u001B[49m\u001B[43m,\u001B[49m\u001B[43m \u001B[49m\u001B[43mtyp\u001B[49m\u001B[38;5;241;43m=\u001B[39;49m\u001B[43mmanager\u001B[49m\u001B[43m)\u001B[49m\n\u001B[0;32m    779\u001B[0m \u001B[38;5;28;01melif\u001B[39;00m \u001B[38;5;28misinstance\u001B[39m(data, ma\u001B[38;5;241m.\u001B[39mMaskedArray):\n\u001B[0;32m    780\u001B[0m     \u001B[38;5;28;01mfrom\u001B[39;00m \u001B[38;5;21;01mnumpy\u001B[39;00m\u001B[38;5;21;01m.\u001B[39;00m\u001B[38;5;21;01mma\u001B[39;00m \u001B[38;5;28;01mimport\u001B[39;00m mrecords\n",
      "File \u001B[1;32m~\\PycharmProjects\\ucu_pad_project_2023_02\\venv\\Lib\\site-packages\\pandas\\core\\internals\\construction.py:503\u001B[0m, in \u001B[0;36mdict_to_mgr\u001B[1;34m(data, index, columns, dtype, typ, copy)\u001B[0m\n\u001B[0;32m    499\u001B[0m     \u001B[38;5;28;01melse\u001B[39;00m:\n\u001B[0;32m    500\u001B[0m         \u001B[38;5;66;03m# dtype check to exclude e.g. range objects, scalars\u001B[39;00m\n\u001B[0;32m    501\u001B[0m         arrays \u001B[38;5;241m=\u001B[39m [x\u001B[38;5;241m.\u001B[39mcopy() \u001B[38;5;28;01mif\u001B[39;00m \u001B[38;5;28mhasattr\u001B[39m(x, \u001B[38;5;124m\"\u001B[39m\u001B[38;5;124mdtype\u001B[39m\u001B[38;5;124m\"\u001B[39m) \u001B[38;5;28;01melse\u001B[39;00m x \u001B[38;5;28;01mfor\u001B[39;00m x \u001B[38;5;129;01min\u001B[39;00m arrays]\n\u001B[1;32m--> 503\u001B[0m \u001B[38;5;28;01mreturn\u001B[39;00m \u001B[43marrays_to_mgr\u001B[49m\u001B[43m(\u001B[49m\u001B[43marrays\u001B[49m\u001B[43m,\u001B[49m\u001B[43m \u001B[49m\u001B[43mcolumns\u001B[49m\u001B[43m,\u001B[49m\u001B[43m \u001B[49m\u001B[43mindex\u001B[49m\u001B[43m,\u001B[49m\u001B[43m \u001B[49m\u001B[43mdtype\u001B[49m\u001B[38;5;241;43m=\u001B[39;49m\u001B[43mdtype\u001B[49m\u001B[43m,\u001B[49m\u001B[43m \u001B[49m\u001B[43mtyp\u001B[49m\u001B[38;5;241;43m=\u001B[39;49m\u001B[43mtyp\u001B[49m\u001B[43m,\u001B[49m\u001B[43m \u001B[49m\u001B[43mconsolidate\u001B[49m\u001B[38;5;241;43m=\u001B[39;49m\u001B[43mcopy\u001B[49m\u001B[43m)\u001B[49m\n",
      "File \u001B[1;32m~\\PycharmProjects\\ucu_pad_project_2023_02\\venv\\Lib\\site-packages\\pandas\\core\\internals\\construction.py:114\u001B[0m, in \u001B[0;36marrays_to_mgr\u001B[1;34m(arrays, columns, index, dtype, verify_integrity, typ, consolidate)\u001B[0m\n\u001B[0;32m    111\u001B[0m \u001B[38;5;28;01mif\u001B[39;00m verify_integrity:\n\u001B[0;32m    112\u001B[0m     \u001B[38;5;66;03m# figure out the index, if necessary\u001B[39;00m\n\u001B[0;32m    113\u001B[0m     \u001B[38;5;28;01mif\u001B[39;00m index \u001B[38;5;129;01mis\u001B[39;00m \u001B[38;5;28;01mNone\u001B[39;00m:\n\u001B[1;32m--> 114\u001B[0m         index \u001B[38;5;241m=\u001B[39m \u001B[43m_extract_index\u001B[49m\u001B[43m(\u001B[49m\u001B[43marrays\u001B[49m\u001B[43m)\u001B[49m\n\u001B[0;32m    115\u001B[0m     \u001B[38;5;28;01melse\u001B[39;00m:\n\u001B[0;32m    116\u001B[0m         index \u001B[38;5;241m=\u001B[39m ensure_index(index)\n",
      "File \u001B[1;32m~\\PycharmProjects\\ucu_pad_project_2023_02\\venv\\Lib\\site-packages\\pandas\\core\\internals\\construction.py:677\u001B[0m, in \u001B[0;36m_extract_index\u001B[1;34m(data)\u001B[0m\n\u001B[0;32m    675\u001B[0m lengths \u001B[38;5;241m=\u001B[39m \u001B[38;5;28mlist\u001B[39m(\u001B[38;5;28mset\u001B[39m(raw_lengths))\n\u001B[0;32m    676\u001B[0m \u001B[38;5;28;01mif\u001B[39;00m \u001B[38;5;28mlen\u001B[39m(lengths) \u001B[38;5;241m>\u001B[39m \u001B[38;5;241m1\u001B[39m:\n\u001B[1;32m--> 677\u001B[0m     \u001B[38;5;28;01mraise\u001B[39;00m \u001B[38;5;167;01mValueError\u001B[39;00m(\u001B[38;5;124m\"\u001B[39m\u001B[38;5;124mAll arrays must be of the same length\u001B[39m\u001B[38;5;124m\"\u001B[39m)\n\u001B[0;32m    679\u001B[0m \u001B[38;5;28;01mif\u001B[39;00m have_dicts:\n\u001B[0;32m    680\u001B[0m     \u001B[38;5;28;01mraise\u001B[39;00m \u001B[38;5;167;01mValueError\u001B[39;00m(\n\u001B[0;32m    681\u001B[0m         \u001B[38;5;124m\"\u001B[39m\u001B[38;5;124mMixing dicts with non-Series may lead to ambiguous ordering.\u001B[39m\u001B[38;5;124m\"\u001B[39m\n\u001B[0;32m    682\u001B[0m     )\n",
      "\u001B[1;31mValueError\u001B[0m: All arrays must be of the same length"
     ]
    }
   ],
   "source": [
    "import pandas as pd\n",
    "\n",
    "# Diccionario de continentes por país\n",
    "continent_dict = {'China': 'Asia',\n",
    "                  'United States': 'North America',\n",
    "                  'Japan': 'Asia',\n",
    "                  'United Kingdom': 'Europe',\n",
    "                  'Russian Federation': 'Europe',\n",
    "                  'Canada': 'North America',\n",
    "                  'Germany': 'Europe',\n",
    "                  'India': 'Asia',\n",
    "                  'France': 'Europe',\n",
    "                  'South Korea': 'Asia',\n",
    "                  'Italy': 'Europe',\n",
    "                  'Spain': 'Europe',\n",
    "                  'Iran': 'Asia',\n",
    "                  'Australia': 'Australia',\n",
    "                  'Brazil': 'South America'}\n",
    "\n",
    "energy['Estimated Population'] = energy['Energy Supply'] / energy['Energy Supply per Capita']\n",
    "sciamgo_top15 = sciamgo[sciamgo['Rank'] <= 15]\n",
    "\n",
    "data = {'Country': ['China', 'United States', 'Japan', 'United Kingdom', 'Russian Federation',\n",
    "                    'Canada', 'Germany', 'India', 'France', 'South Korea', 'Italy', 'Spain', \n",
    "                    'Iran', 'Australia', 'Brazil'],\n",
    "        'Estimated Population': []}\n",
    " \n",
    "energy = pd.DataFrame(data)\n",
    "\n",
    "# Asignar los continentes usando el diccionario\n",
    "energy['Continent'] = energy['Country'].map(continent_dict)\n",
    "\n",
    "# Paso 1: Agrupar por continente y calcular las estadísticas\n",
    "continent_stats = energy.groupby('Continent')['Estimated Population'].agg(\n",
    "    size='size',        # Tamaño de la muestra\n",
    "    sum='sum',          # Suma de la población\n",
    "    mean='mean',        # Media de la población\n",
    "    std='std'           # Desviación estándar de la población\n",
    ")\n",
    "\n",
    "# Mostrar el resultado\n",
    "print(continent_stats)\n"
   ]
  },
  {
   "cell_type": "markdown",
   "metadata": {
    "deletable": false,
    "editable": false,
    "nbgrader": {
     "checksum": "61562b9b667bd5efbcec0dcd7becbfaa",
     "grade": false,
     "grade_id": "cell-998b62d4f390ef15",
     "locked": true,
     "schema_version": 1,
     "solution": false
    }
   },
   "source": [
    "### Optional\n",
    "\n",
    "Puedes ejecutar la función `plot_optional()` para ver un ejemplo de visualización."
   ]
  },
  {
   "cell_type": "code",
   "execution_count": 349,
   "metadata": {
    "deletable": false,
    "editable": false,
    "nbgrader": {
     "checksum": "479786c97cb5f34d07231c6d7c602a47",
     "grade": false,
     "grade_id": "cell-741fd55ea57cd40a",
     "locked": true,
     "schema_version": 1,
     "solution": false
    },
    "ExecuteTime": {
     "end_time": "2024-11-06T00:52:40.213124300Z",
     "start_time": "2024-11-06T00:52:39.827281900Z"
    }
   },
   "outputs": [
    {
     "name": "stdout",
     "output_type": "stream",
     "text": [
      "Este es un ejemplo de visualización realizado para ayudarte a comprender los datos. \n",
      "Este es un gráfico de burbujas que muestra el % Renewable vs. Rank. \n",
      "El tamaño de la burbuja corresponde al GDP (PIB) de 2014 de los países, y el color corresponde al continente.\n"
     ]
    },
    {
     "data": {
      "text/plain": "<Figure size 1600x600 with 1 Axes>",
      "image/png": "[encoded data removed]"
     },
     "metadata": {},
     "output_type": "display_data"
    }
   ],
   "source": [
    "def plot_optional():\n",
    "    import matplotlib as plt\n",
    "    %matplotlib inline\n",
    "    top15 = df  # df debe ser el nombre del DataFrame que obtuviste en la pregunta 1\n",
    "    ax = top15.plot(x='Rank', y='% Renewable', kind='scatter',\n",
    "                    c=['#e41a1c', '#377eb8', '#e41a1c', '#4daf4a',\n",
    "                       '#4daf4a', '#377eb8', '#4daf4a', '#e41a1c',\n",
    "                       '#4daf4a', '#e41a1c', '#4daf4a', '#4daf4a',\n",
    "                       '#e41a1c', '#dede00', '#ff7f00'],\n",
    "                    xticks=range(1, 16), s=6 * top15['2014'] / 10 ** 10,\n",
    "                    alpha=.75, figsize=[16, 6])\n",
    "\n",
    "    for i, txt in enumerate(top15.index):\n",
    "        ax.annotate(txt, [top15['Rank'][i], top15['% Renewable'][i]], ha='center')\n",
    "\n",
    "    print(\n",
    "        \"\"\"Este es un ejemplo de visualización realizado para ayudarte a comprender los datos. \\nEste es un gráfico de burbujas que muestra el % Renewable vs. Rank. \\nEl tamaño de la burbuja corresponde al GDP (PIB) de 2014 de los países, y el color corresponde al continente.\"\"\")\n",
    "\n",
    "\n",
    "plot_optional()"
   ]
  },
  {
   "cell_type": "code",
   "execution_count": null,
   "outputs": [],
   "source": [],
   "metadata": {
    "collapsed": false
   }
  }
 ],
 "metadata": {
  "anaconda-cloud": {},
  "coursera": {
   "schema_names": [
    "mooc_adswpy_1_v2_assignment3"
   ]
  },
  "kernelspec": {
   "display_name": "Python 3 (ipykernel)",
   "language": "python",
   "name": "python3"
  },
  "language_info": {
   "codemirror_mode": {
    "name": "ipython",
    "version": 3
   },
   "file_extension": ".py",
   "mimetype": "text/x-python",
   "name": "python",
   "nbconvert_exporter": "python",
   "pygments_lexer": "ipython3",
   "version": "3.10.11"
  }
 },
 "nbformat": 4,
 "nbformat_minor": 1
}
